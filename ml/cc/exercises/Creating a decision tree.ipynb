#Import the following libraries:

import ydf
import numpy as np
import pandas as pd
